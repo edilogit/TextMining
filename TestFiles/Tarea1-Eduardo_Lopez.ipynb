{
 "cells": [
  {
   "cell_type": "code",
   "execution_count": 51,
   "metadata": {},
   "outputs": [],
   "source": [
    "import cv2\n",
    "import numpy as np\n",
    "import sys\n"
   ]
  },
  {
   "cell_type": "markdown",
   "metadata": {},
   "source": [
    "## Problema 1, Funcion para obtener imagen con un solo color"
   ]
  },
  {
   "cell_type": "code",
   "execution_count": 39,
   "metadata": {},
   "outputs": [
    {
     "ename": "SystemExit",
     "evalue": "",
     "output_type": "error",
     "traceback": [
      "An exception has occurred, use %tb to see the full traceback.\n",
      "\u001b[1;31mSystemExit\u001b[0m\n"
     ]
    }
   ],
   "source": [
    "#orden GBR\n",
    "def transformacolor(imgstr, color):\n",
    "\n",
    "    img = cv2.imread(imgstr)\n",
    "    \n",
    "    alto= img.shape[0]\n",
    "    ancho = img.shape[1]\n",
    "    canales = img.shape[2]\n",
    "    out = np.zeros((alto,ancho,3)) \n",
    "\n",
    "    for i in range(alto):\n",
    "        for j in range(ancho):\n",
    "            pixel = img[i,j]\n",
    "            azul = pixel[0]\n",
    "            verde = pixel[1]\n",
    "            rojo = pixel[2]\n",
    "            if color == 1:\n",
    "                out[i,j] = [azul,0,0]\n",
    "            if color == 2:\n",
    "                out[i,j] = [0,verde,0]\n",
    "            if color == 3:\n",
    "                out[i,j] = [0,0,rojo]    \n",
    "            if color == 10:\n",
    "                out[i,j] = [0,verde,rojo]\n",
    "            if color == 20:\n",
    "                out[i,j] = [azul,verde,0]    \n",
    "            if color == 30:\n",
    "                out[i,j] = [azul,0,rojo]\n",
    "\n",
    "                \n",
    "    cv2.imwrite(\".\\problema1\\salida-rojo.jpg\",out)\n",
    "    saved = cv2.imread('.\\problema1\\salida-rojo.jpg')\n",
    "    cv2.imshow('Imagen2',saved)\n",
    "    \n",
    "    \n",
    "    cv2.waitKey(0)\n",
    "    cv2.destroyAllWindows()\n",
    "    sys.exit()\n",
    "\n",
    "transformacolor('.\\problema1\\Palacio_Nacional.jpg',3)"
   ]
  },
  {
   "cell_type": "markdown",
   "metadata": {},
   "source": [
    "## Problema 2"
   ]
  },
  {
   "cell_type": "code",
   "execution_count": 53,
   "metadata": {},
   "outputs": [
    {
     "ename": "SystemExit",
     "evalue": "",
     "output_type": "error",
     "traceback": [
      "An exception has occurred, use %tb to see the full traceback.\n",
      "\u001b[1;31mSystemExit\u001b[0m\n"
     ]
    }
   ],
   "source": [
    "#cargo las imagenes\n",
    "\n",
    "img1 = cv2.imread(\".\\problema2\\imagen2\\imagen2_salida_gray_azul.jpg\")\n",
    "img2 = cv2.imread(\".\\problema2\\imagen2\\imagen2_salida_gray_rojo.jpg\")\n",
    "img3 = cv2.imread(\".\\problema2\\imagen2\\imagen2_salida_gray_verde.jpg\")\n",
    "\n",
    "alto= img1.shape[0]\n",
    "ancho = img1.shape[1]\n",
    "out = np.zeros((alto,ancho,3))\n",
    "\n",
    "for i in range(alto):\n",
    "    for j in range(ancho):\n",
    "        azul = img1[i,j][0]\n",
    "        rojo = img2[i,j][2]\n",
    "        verde = img3[i,j][1]\n",
    "        out[i,j] = [azul,verde,rojo]\n",
    "        \n",
    "cv2.imwrite(\".\\problema2\\salida-completa2.jpg\",out)\n",
    "saved = cv2.imread('.\\problema2\\salida-completa2.jpg')\n",
    "cv2.imshow('Imagen completa',saved)\n",
    "    \n",
    "cv2.waitKey(0)\n",
    "cv2.destroyAllWindows()\n",
    "sys.exit()"
   ]
  },
  {
   "cell_type": "markdown",
   "metadata": {},
   "source": [
    "## Problema 3"
   ]
  },
  {
   "cell_type": "code",
   "execution_count": 66,
   "metadata": {
    "scrolled": false
   },
   "outputs": [
    {
     "ename": "SystemExit",
     "evalue": "",
     "output_type": "error",
     "traceback": [
      "An exception has occurred, use %tb to see the full traceback.\n",
      "\u001b[1;31mSystemExit\u001b[0m\n"
     ]
    }
   ],
   "source": [
    "\n",
    "#cargo las imagenes\n",
    "\n",
    "img1 = cv2.imread(\".\\problema3\\palacio_nacional.jpg\")\n",
    "\n",
    "\n",
    "alto= img1.shape[0]\n",
    "ancho = img1.shape[1]\n",
    "out = np.zeros((alto,ancho,3))\n",
    "\n",
    "for i in range(alto):\n",
    "    for j in range(ancho):\n",
    "        azul = img1[i,j][0]\n",
    "        rojo = img1[i,j][2]\n",
    "        verde = img1[i,j][1]\n",
    "        out1[i,j] = azul\n",
    "        out2[i,j] = rojo\n",
    "        out3[i,j] = verde\n",
    "        \n",
    "cv2.imwrite(\".\\problema3\\salida_azul.jpg\",out1)\n",
    "cv2.imwrite(\".\\problema3\\salida_rojo.jpg\",out2)\n",
    "cv2.imwrite(\".\\problema3\\salida_verde.jpg\",out3)\n",
    "#saved = cv2.imread('.\\problema3\\salida.jpg')\n",
    "#cv2.imshow('Imagen completa',saved)\n",
    "    \n",
    "cv2.waitKey(0)\n",
    "cv2.destroyAllWindows()\n",
    "sys.exit()"
   ]
  },
  {
   "cell_type": "markdown",
   "metadata": {},
   "source": [
    "## Problema 4"
   ]
  },
  {
   "cell_type": "code",
   "execution_count": 94,
   "metadata": {},
   "outputs": [
    {
     "ename": "error",
     "evalue": "OpenCV(4.1.0) C:\\projects\\opencv-python\\opencv\\modules\\imgproc\\src\\histogram.cpp:1203: error: (-215:Assertion failed) csz == 0 || csz == dims in function 'cv::calcHist'\n",
     "output_type": "error",
     "traceback": [
      "\u001b[1;31m---------------------------------------------------------------------------\u001b[0m",
      "\u001b[1;31merror\u001b[0m                                     Traceback (most recent call last)",
      "\u001b[1;32m<ipython-input-94-90faadbd6fce>\u001b[0m in \u001b[0;36m<module>\u001b[1;34m\u001b[0m\n\u001b[0;32m     46\u001b[0m     \u001b[0msys\u001b[0m\u001b[1;33m.\u001b[0m\u001b[0mexit\u001b[0m\u001b[1;33m(\u001b[0m\u001b[1;33m)\u001b[0m\u001b[1;33m\u001b[0m\u001b[1;33m\u001b[0m\u001b[0m\n\u001b[0;32m     47\u001b[0m \u001b[1;33m\u001b[0m\u001b[0m\n\u001b[1;32m---> 48\u001b[1;33m \u001b[0mhistograma\u001b[0m\u001b[1;33m(\u001b[0m\u001b[1;34m'.\\problema4\\lasexta.jpg'\u001b[0m\u001b[1;33m)\u001b[0m\u001b[1;33m\u001b[0m\u001b[1;33m\u001b[0m\u001b[0m\n\u001b[0m",
      "\u001b[1;32m<ipython-input-94-90faadbd6fce>\u001b[0m in \u001b[0;36mhistograma\u001b[1;34m(imgstr)\u001b[0m\n\u001b[0;32m     36\u001b[0m     \u001b[0mplt\u001b[0m\u001b[1;33m.\u001b[0m\u001b[0msubplot\u001b[0m\u001b[1;33m(\u001b[0m\u001b[1;36m4\u001b[0m\u001b[1;33m,\u001b[0m \u001b[1;36m1\u001b[0m\u001b[1;33m,\u001b[0m\u001b[1;36m4\u001b[0m\u001b[1;33m)\u001b[0m\u001b[1;33m\u001b[0m\u001b[1;33m\u001b[0m\u001b[0m\n\u001b[0;32m     37\u001b[0m      \u001b[1;31m#grafica histograma para la escala de grises aritmetico, con sus 3 dimensiones\u001b[0m\u001b[1;33m\u001b[0m\u001b[1;33m\u001b[0m\u001b[1;33m\u001b[0m\u001b[0m\n\u001b[1;32m---> 38\u001b[1;33m     \u001b[0mhist\u001b[0m \u001b[1;33m=\u001b[0m \u001b[0mcv2\u001b[0m\u001b[1;33m.\u001b[0m\u001b[0mcalcHist\u001b[0m\u001b[1;33m(\u001b[0m\u001b[1;33m[\u001b[0m\u001b[0mgris\u001b[0m\u001b[1;33m]\u001b[0m\u001b[1;33m,\u001b[0m \u001b[1;33m[\u001b[0m\u001b[1;36m0\u001b[0m\u001b[1;33m,\u001b[0m\u001b[1;36m1\u001b[0m\u001b[1;33m,\u001b[0m\u001b[1;36m2\u001b[0m\u001b[1;33m]\u001b[0m\u001b[1;33m,\u001b[0m \u001b[1;32mNone\u001b[0m\u001b[1;33m,\u001b[0m \u001b[1;33m[\u001b[0m\u001b[1;36m256\u001b[0m\u001b[1;33m]\u001b[0m\u001b[1;33m,\u001b[0m \u001b[1;33m[\u001b[0m\u001b[1;36m0\u001b[0m\u001b[1;33m,\u001b[0m \u001b[1;36m256\u001b[0m\u001b[1;33m]\u001b[0m\u001b[1;33m)\u001b[0m\u001b[1;33m\u001b[0m\u001b[1;33m\u001b[0m\u001b[0m\n\u001b[0m\u001b[0;32m     39\u001b[0m     \u001b[0mplt\u001b[0m\u001b[1;33m.\u001b[0m\u001b[0mplot\u001b[0m\u001b[1;33m(\u001b[0m\u001b[0mhist\u001b[0m\u001b[1;33m,\u001b[0m \u001b[0mcolor\u001b[0m\u001b[1;33m=\u001b[0m\u001b[1;34m'g'\u001b[0m\u001b[1;33m)\u001b[0m\u001b[1;33m\u001b[0m\u001b[1;33m\u001b[0m\u001b[0m\n\u001b[0;32m     40\u001b[0m     \u001b[0mplt\u001b[0m\u001b[1;33m.\u001b[0m\u001b[0mxlim\u001b[0m\u001b[1;33m(\u001b[0m\u001b[1;33m[\u001b[0m\u001b[1;36m0\u001b[0m\u001b[1;33m,\u001b[0m \u001b[1;36m256\u001b[0m\u001b[1;33m]\u001b[0m\u001b[1;33m)\u001b[0m\u001b[1;33m\u001b[0m\u001b[1;33m\u001b[0m\u001b[0m\n",
      "\u001b[1;31merror\u001b[0m: OpenCV(4.1.0) C:\\projects\\opencv-python\\opencv\\modules\\imgproc\\src\\histogram.cpp:1203: error: (-215:Assertion failed) csz == 0 || csz == dims in function 'cv::calcHist'\n"
     ]
    },
    {
     "data": {
      "image/png": "[encoded data removed]",
      "text/plain": [
       "<Figure size 432x288 with 4 Axes>"
      ]
     },
     "metadata": {
      "needs_background": "light"
     },
     "output_type": "display_data"
    }
   ],
   "source": [
    "from matplotlib import pyplot as plt\n",
    "\n",
    "#orden GBR\n",
    "def histograma(imgstr):\n",
    "\n",
    "    img = cv2.imread(imgstr)\n",
    "    alto= img.shape[0]\n",
    "    ancho = img.shape[1]\n",
    "    canales = img.shape[2]\n",
    "    gris = np.zeros((alto,ancho,3)) \n",
    "    \n",
    "    plt.subplot(4, 1,1)\n",
    "    #grafica histograma para color green\n",
    "    hist = cv2.calcHist([img], [0], None, [256], [0, 256])\n",
    "    plt.plot(hist, color='g')\n",
    "    plt.xlim([0, 256])\n",
    "    \n",
    "    plt.subplot(4, 1,2)\n",
    "    #grafica histograma para color blue\n",
    "    hist = cv2.calcHist([img], [1], None, [256], [0, 256])\n",
    "    plt.plot(hist, color='b')\n",
    "    plt.xlim([0, 256])\n",
    "    \n",
    "    plt.subplot(4, 1,3)\n",
    "     #grafica histograma para color red\n",
    "    hist = cv2.calcHist([img], [2], None, [256], [0, 256])\n",
    "    plt.plot(hist, color='r')\n",
    "    plt.xlim([0, 256])\n",
    "    \n",
    "    for i in range(alto):\n",
    "        for j in range(ancho):\n",
    "            pixel = img[i,j]\n",
    "            grisAritmetico = int(int(pixel[0]) + int(pixel[1]) + int(pixel[2])/3)\n",
    "            gris[i,j] = grisAritmetico\n",
    "\n",
    "    plt.subplot(4, 1,4)\n",
    "     #grafica histograma para la escala de grises aritmetico, con sus 3 dimensiones\n",
    "    hist = cv2.calcHist([gris], [0,1,2], None, [256], [0, 256])\n",
    "    plt.plot(hist, color='g')\n",
    "    plt.xlim([0, 256])\n",
    "    \n",
    "    cv2.imwrite(\".\\problema4\\salida.jpg\",gris)\n",
    "    \n",
    "    cv2.waitKey(0)\n",
    "    cv2.destroyAllWindows()\n",
    "    sys.exit()\n",
    "\n",
    "histograma('.\\problema4\\lasexta.jpg')"
   ]
  },
  {
   "cell_type": "markdown",
   "metadata": {},
   "source": [
    "## Problema 5  promedio ponderado por color\n",
    "\n",
    "### Segun lo que investigue la documentacion de la funcin cv2.cvtColor lo hace con la siguiente formula\n",
    "### Y = 0.299 R + 0.587 G + 0.114 B\n",
    "### hare la misma funcion de escala de gris aritmetica pero ahora le colocare los pesos segun la formula\n"
   ]
  },
  {
   "cell_type": "code",
   "execution_count": 96,
   "metadata": {},
   "outputs": [
    {
     "ename": "SystemExit",
     "evalue": "",
     "output_type": "error",
     "traceback": [
      "An exception has occurred, use %tb to see the full traceback.\n",
      "\u001b[1;31mSystemExit\u001b[0m\n"
     ]
    }
   ],
   "source": [
    "#cargo las imagenes\n",
    "## CV2 order BGR (blue, green, red)\n",
    "img1 = cv2.imread(\".\\problema5\\lasexta.jpg\")\n",
    "\n",
    "gris = np.zeros((alto,ancho,3)) \n",
    "alto= img1.shape[0]\n",
    "ancho = img1.shape[1]\n",
    "out = np.zeros((alto,ancho,3))\n",
    "\n",
    "for i in range(alto):\n",
    "    for j in range(ancho):\n",
    "        pixel = img[i,j]\n",
    "        grisponderado = int(int(pixel[0]*0.11) + int(pixel[1]*0.587) + int(pixel[2]*.299)/3)\n",
    "        gris[i,j] = grisponderado\n",
    "        \n",
    "cv2.imwrite(\".\\problema5\\salida-lasexta.jpg\",gris)\n",
    "saved = cv2.imread('.\\problema5\\salida-lasexta.jpg')\n",
    "cv2.imshow('Imagen completa',saved)\n",
    "    \n",
    "cv2.waitKey(0)\n",
    "cv2.destroyAllWindows()\n",
    "sys.exit()"
   ]
  },
  {
   "cell_type": "code",
   "execution_count": null,
   "metadata": {},
   "outputs": [],
   "source": []
  }
 ],
 "metadata": {
  "kernelspec": {
   "display_name": "Python 3",
   "language": "python",
   "name": "python3"
  },
  "language_info": {
   "codemirror_mode": {
    "name": "ipython",
    "version": 3
   },
   "file_extension": ".py",
   "mimetype": "text/x-python",
   "name": "python",
   "nbconvert_exporter": "python",
   "pygments_lexer": "ipython3",
   "version": "3.7.2"
  }
 },
 "nbformat": 4,
 "nbformat_minor": 2
}
