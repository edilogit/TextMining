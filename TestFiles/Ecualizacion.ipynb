{
 "cells": [
  {
   "cell_type": "code",
   "execution_count": 1,
   "metadata": {},
   "outputs": [],
   "source": [
    "import cv2\n",
    "from matplotlib import pyplot as plt\n",
    "import numpy as np\n",
    "import sys"
   ]
  },
  {
   "cell_type": "code",
   "execution_count": 7,
   "metadata": {},
   "outputs": [
    {
     "ename": "SystemExit",
     "evalue": "",
     "output_type": "error",
     "traceback": [
      "An exception has occurred, use %tb to see the full traceback.\n",
      "\u001b[1;31mSystemExit\u001b[0m\n"
     ]
    }
   ],
   "source": [
    "image = cv2.imread('.\\img1.jpg',0)\n",
    "cv2.imshow('Imagen Carro',img)\n",
    "alto= img.shape[0]\n",
    "ancho = img.shape[1]\n",
    "out = np.zeros((alto,ancho,3)) \n",
    "    \n",
    "cv2.waitKey(0)\n",
    "cv2.destroyAllWindows()\n",
    "sys.exit()\n",
    "    "
   ]
  },
  {
   "cell_type": "code",
   "execution_count": 8,
   "metadata": {},
   "outputs": [
    {
     "data": {
      "text/plain": [
       "[<matplotlib.lines.Line2D at 0x850c7f0>]"
      ]
     },
     "execution_count": 8,
     "metadata": {},
     "output_type": "execute_result"
    },
    {
     "data": {
      "image/png": "[encoded data removed]",
      "text/plain": [
       "<Figure size 432x288 with 1 Axes>"
      ]
     },
     "metadata": {
      "needs_background": "light"
     },
     "output_type": "display_data"
    }
   ],
   "source": [
    "\n",
    "def histograma(image):\n",
    "    #se crea el arreglo que contendra la frecuencia de pixeles\n",
    "    histogram = np.zeros(256)\n",
    "    \n",
    "    # loop por todos los pixels de la funcion\n",
    "    for i in range(alto):\n",
    "        for j in range(ancho):\n",
    "            pixel = img[i,j]\n",
    "            histogram[pixel] += 1\n",
    "    \n",
    "    # return our final result\n",
    "    return histogram\n",
    "\n",
    "img = np.asarray(image)\n",
    "flat = img.flatten()\n",
    "hist = histograma(flat)\n",
    "\n",
    "plt.plot(hist)"
   ]
  },
  {
   "cell_type": "code",
   "execution_count": 9,
   "metadata": {},
   "outputs": [
    {
     "data": {
      "image/png": "[encoded data removed]",
      "text/plain": [
       "<Figure size 432x288 with 1 Axes>"
      ]
     },
     "metadata": {
      "needs_background": "light"
     },
     "output_type": "display_data"
    }
   ],
   "source": [
    "cs = np.cumsum(hist)\n",
    "nj = (cs - cs.min()) * 255\n",
    "N = cs.max() - cs.min()\n",
    "\n",
    "# re-normalize the cdf\n",
    "cs = nj / N\n",
    "\n",
    "img_new = cs[flat]\n",
    "plt.hist(img_new, bins=50)\n",
    "img_new = np.reshape(img_new, img.shape)\n"
   ]
  },
  {
   "cell_type": "code",
   "execution_count": 10,
   "metadata": {},
   "outputs": [
    {
     "ename": "SystemExit",
     "evalue": "",
     "output_type": "error",
     "traceback": [
      "An exception has occurred, use %tb to see the full traceback.\n",
      "\u001b[1;31mSystemExit\u001b[0m\n"
     ]
    }
   ],
   "source": [
    "cv2.imwrite(\".\\imgecualizada.jpg\",img_new)\n",
    "imgequ = cv2.imread('.\\imgecualizada.jpg')\n",
    "cv2.imshow('Imagen Ecualizada',imgequ)\n",
    "\n",
    "\n",
    "cv2.waitKey(0)\n",
    "cv2.destroyAllWindows()\n",
    "sys.exit()"
   ]
  },
  {
   "cell_type": "code",
   "execution_count": null,
   "metadata": {},
   "outputs": [],
   "source": []
  }
 ],
 "metadata": {
  "kernelspec": {
   "display_name": "Python 3",
   "language": "python",
   "name": "python3"
  },
  "language_info": {
   "codemirror_mode": {
    "name": "ipython",
    "version": 3
   },
   "file_extension": ".py",
   "mimetype": "text/x-python",
   "name": "python",
   "nbconvert_exporter": "python",
   "pygments_lexer": "ipython3",
   "version": "3.7.2"
  }
 },
 "nbformat": 4,
 "nbformat_minor": 2
}
